{
 "cells": [
  {
   "cell_type": "code",
   "execution_count": 2,
   "id": "00521cab",
   "metadata": {},
   "outputs": [
    {
     "name": "stdout",
     "output_type": "stream",
     "text": [
      "The volume of the sphere is:  904.7786842338603\n"
     ]
    }
   ],
   "source": [
    "pi = 3.1415926535897931\n",
    "r= 6.0\n",
    "V= 4.0/3.0*pi* r**3\n",
    "print('The volume of the sphere is: ',V)"
   ]
  },
  {
   "cell_type": "code",
   "execution_count": null,
   "id": "2bf33a08",
   "metadata": {},
   "outputs": [],
   "source": []
  }
 ],
 "metadata": {
  "kernelspec": {
   "display_name": "Python 3",
   "language": "python",
   "name": "python3"
  },
  "language_info": {
   "codemirror_mode": {
    "name": "ipython",
    "version": 3
   },
   "file_extension": ".py",
   "mimetype": "text/x-python",
   "name": "python",
   "nbconvert_exporter": "python",
   "pygments_lexer": "ipython3",
   "version": "3.8.8"
  }
 },
 "nbformat": 4,
 "nbformat_minor": 5
}
